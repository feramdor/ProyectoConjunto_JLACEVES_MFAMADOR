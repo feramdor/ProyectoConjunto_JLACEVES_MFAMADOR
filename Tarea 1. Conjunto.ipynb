{
 "cells": [
  {
   "cell_type": "markdown",
   "metadata": {},
   "source": [
    "<img style=\"float: left; margin: 30px 15px 15px 15px;\" src=\"https://pngimage.net/wp-content/uploads/2018/06/logo-iteso-png-5.png\" width=\"300\" height=\"500\" /> \n",
    "    \n",
    "    \n",
    "### <font color='navy'> Simulación de procesos financieros. \n",
    "\n",
    "**Nombres:** Jose Leonardo Aceves Gonzalez y María Fernanda Amador Alvarez.\n",
    "\n",
    "**Fecha:** 31 de agosto del 2021.\n",
    "\n",
    "**Expediente** : 712626 y 725573.\n",
    "**Profesor:** Oscar David Jaramillo Zuluaga.\n",
    "    \n",
    "**Link Github**: https://github.com/leonardoaceves/ProyectoConjunto_JLACEVES_MFAMADOR.git\n",
    "# Tarea 1: Clase 2"
   ]
  },
  {
   "cell_type": "markdown",
   "metadata": {},
   "source": [
    "## <font color=red>**Tarea 1- git**</font> \n",
    "Este archivo contiene las pautas necesarias para crear el archivo conjunto en Github, usando los notebooks de Jupyter:\n",
    "\n",
    "1.  El archivo debe realizarse en parejas y sólo uno de los dos debe crear en su cuenta de *Github* un repositorio con el nombre **ProyectoConjunto\\_APELLIDO1\\_APELLIDO2**. A la persona que creó el repositorio la llamaremos (ESTUDIANTE 1 ). El APELLIDO se debe de escribir (Iniciales del nombre y primer apellido), por ejemplo si yo creara el archivo lo debería de nombrar *ProyectoConjunto\\_ODJaramillo*. \n",
    "1.  Posteriormente, desde la cuenta del (ESTUDIANTE 2), 'aquel que no creó el repositorio anterior', ingresar al perfil del ESTUDIANTE 1 y en el repositorio creado en el paso 1, realizar un \"fork\" de este repositorio en su perfil, y además realizar los pasos en Gitkraken para hacer dicho repositorio \"Remoto (REMOTE)\" VER DICHO PROCEDIMIENTO EN LA CLASE **Clase2_GitTurorial2**.\n",
    "1.  Luego de realizados los pasos 1 y 2, el ESTUDIANTE 1 y ESTUDIANTE 2, desde su computador realizar un *clone* del repositorio creado en el numeral 1 en la carpeta que cada quién haya asignado para el curso en su computador. \n",
    "1.  Luego desde Jupyter el ESTUDIANTE 1, crea un nuevo ``notebook`` en el repositorio del paso 3. \n",
    "1.  En este nuevo notebook el ESTUDIANTE 1 y ESTUDIANTE 2, deben realizar una presentación describiendo sus expectativas del curso y la transcipción de la Figura 1 y Figura 2 respectivamente, haciendo uso de la sintaxis Markdown. Recuerden definir unas celdas donde cada usuario modificará el cuaderno de python para evitar futuros conflictos. \n",
    "\n",
    "**RECOMENDACIÓN:ANTES DE EMPEZAR A REALIZAR MUCHAS MODIFICACIONES DEL NOTEBOOK PRIMERO REALICEN CAMBIOS PEQUEÑOS EN EL ARCHIVO EN CONJUNTO Y VERIFIQUEN SI TANTO EL ``ESTUDIANTE 1`` COMO EL ``ESTUDIANTE 2``  RECIBEN LAS ACTUALIZACIONES QUE REALIZAN CADA UNO EN EL PROYECTO PARA VERIFICAR QUE EL REMOTE ESTUVO BIEN CONFIGURADO.**\n",
    ">Les recomiendo ver los siguientes enlaces para ver distintas funciones para escribir en markdown.\n",
    ">    - [Creador de tablas online](https://www.tablesgenerator.com/markdown_tables)\n",
    ">    - [Sintáxis markdown](https://joplinapp.org/markdown/)\n",
    "\n",
    "6. Cuando ya se encuentre el proyecto conjunto con la información del ESTUDIANTE 1 y ESTUDIANTE 2, el ``ESTUDIANTE 2``  debe de realizar un `pull request` con las modificaciones realizadas a el `ESTUDIANTE 1` para que este realice un merge a la rama `master`, con las moficaciones propuestas por el `ESTUDIANTE 2`, TAL Y CÓMO SE REALIZÓ EN CLASE. (Recuerden que los pull request se generan en *Gitkraken* y se administran los comentarios o cambios propuestos por su compañero desde *Github* ver `Clase1_GitTurorial` para aclaración de dudas, donde se explica cómo crear *branch y pull request*)\n",
    "7. Luego de culminado los pasos anteriores, el ESTUDIANTE 1,realizará un programa que imprima la serie de fibonacci para sus primeros 100 términos en un array de python,usando la rama “master” del repositorio creado. Por otro lado, el ESTUDIANTE 2,creando un “branch” llamado `ejerPrograma`, generará un programa que muestre los números primos del 0-100. Luego de que el ESTUDIANTE 2 haya terminado su programa, debe de realizar un “pull request” al ESTUDIANTE 1, **ANTES** de hacer un “merge” de la rama `ejerPrograma` en el proyecto principal (“master”). Luego de realizado estos pasos **NO BORRAR LA RAMA CREADA (`ejerPrograma`)**"
   ]
  },
  {
   "cell_type": "markdown",
   "metadata": {},
   "source": [
    "### Estudiante 1: Jose Leonardo Aceves Gonzalez"
   ]
  },
  {
   "cell_type": "markdown",
   "metadata": {},
   "source": []
  },
  {
   "cell_type": "code",
   "execution_count": null,
   "metadata": {},
   "outputs": [],
   "source": []
  },
  {
   "cell_type": "markdown",
   "metadata": {},
   "source": [
    "### Estudiante 2: María Fernanda Amador Alvarez"
   ]
  },
  {
   "cell_type": "markdown",
   "metadata": {},
   "source": [
    "### Expectativas del curso\n",
    "\n",
    "Espero poder mejorar el manejo de las herramientas de GitHub y de GitKraken durante el curso, además de poder reforzar los conocimientos previos que tengo con Python. "
   ]
  },
  {
   "cell_type": "markdown",
   "metadata": {},
   "source": [
    "|     $i$     |  $1$  | $2$  | $3$ | $4$ | $5$ | $6$ | $7$ |\n",
    "|-------------|-----  |----  |---  |---  |---  |---  |---  |\n",
    "|  $E_i(V)$   | $12$  | $10$ | $24$| $12$| $-$ | $-$ | $-$ |\n",
    "|$r_i(\\Omega)$| $0.1$ |$0.5$ |$0.2$|$0.5$| $-$ | $-$ | $-$ |\n",
    "|$R_i(\\Omega)$| $25$  | $40$ | $16$| $20$| $9$ | $4$ | $20$|"
   ]
  },
  {
   "cell_type": "markdown",
   "metadata": {},
   "source": [
    "<font color='blue'> Kemma y Vorts (1990) </font> muestran que las opciones asiáticas con media geométrica continua se pueden valuar con el mismo enfoque de las opciones *plain vanilla*, solo se deben cambias los parámetros de volatilidad  $\\sigma$ por  $\\sigma_a$, y el costo de acarreo *b* por *$b_a$*. \n",
    "\n",
    "De acuerdo con Kemma y Vorst, las fórmulas para valuar una opción de compra y un opción de venta son:\n",
    "\n",
    "\n",
    "$ c \\approx S_t{e^(b_a-r)(T-t)} \\phi (d_1) - K{e^-r(T-t)} \\phi(d_2)$,\n",
    "$ p \\approx Ke^{-r(T-t)} \\phi(-d_2) - S_te{^(b_a-r)} \\phi(-d_1)$    \n",
    "con $d_1$ y $d_2$ dados por:\n",
    "\n",
    "$ d_1 = \\frac{ln(S_t)/K + (b_a + 1/2 \\sigma^2_a)(T-t)} {\\sigma \\sqrt(T-t)}$ , \n",
    "\n",
    "$ d_2 = d_1 - \\sigma_a \\sqrt(T-t)$.\n",
    "\n",
    "\n",
    "La funcion $\\phi(d)$ es la función de distribución acumulada de $E\\sim \\mathcal{N}(0,1)$. La volatilidad ajustada es igual a :\n",
    "\n",
    "$\\sigma_a = \\frac{\\sigma}{\\sqrt{3}}$\n",
    "\n",
    "mientras que el costo de acarreo ajustado es:\n",
    "\n",
    "$b_a = \\frac{1}{2}(v - \\frac{\\sigma^2}{6})$\n"
   ]
  },
  {
   "cell_type": "code",
   "execution_count": 5,
   "metadata": {},
   "outputs": [
    {
     "name": "stdout",
     "output_type": "stream",
     "text": [
      "[2, 3, 5, 7, 11, 13, 17, 19, 23, 29, 31, 37, 41, 43, 47, 53, 59, 61, 67, 71, 73, 79, 83, 89, 97]\n"
     ]
    }
   ],
   "source": [
    "x = [i for i in range (2, 101)\n",
    "    if (i%2!=0 or i == 2) and \n",
    "       (i%3!=0 or i == 3) and\n",
    "       (i%5!=0 or i == 5) and\n",
    "       (i%7!=0 or i == 7)]\n",
    "\n",
    "print(x)"
   ]
  }
 ],
 "metadata": {
  "kernelspec": {
   "display_name": "Python 3",
   "language": "python",
   "name": "python3"
  },
  "language_info": {
   "codemirror_mode": {
    "name": "ipython",
    "version": 3
   },
   "file_extension": ".py",
   "mimetype": "text/x-python",
   "name": "python",
   "nbconvert_exporter": "python",
   "pygments_lexer": "ipython3",
   "version": "3.8.3"
  }
 },
 "nbformat": 4,
 "nbformat_minor": 5
}
